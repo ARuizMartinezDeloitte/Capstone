{
 "cells": [
  {
   "cell_type": "markdown",
   "metadata": {},
   "source": [
    "# *Movie Status Report: Computing Vision*\n",
    "### I.- Introduction\n",
    "#### A) Overview\n",
    "    We have been tasked with determining which type of movie would be the best investment for a new movie studio. Based on empirical data collected over the past couple of years. We want your initial investment in a movie to be successful so you can hit the ground running in your new and exciting venture. For that to be a success, we have taken a deep dive into the data to determine how long a movie should be, what rating, and how much to spend to insure a hit in the box office.\n",
    "#### B) Members\n",
    "    1. Blake Medwed\n",
    "    2. Rico Gutierrez\n",
    "    3. Ahmed Isse\n",
    "    4. Alberto Ruiz Martinez\n",
    "#### C) Objectives\n",
    "    1. Analyze empirical data based on the last few years\n",
    "    2. Visualize the analyzed data\n",
    "    3. Explain the vizualizations\n",
    "    4. Determine the best course of action for the initial investment"
   ]
  },
  {
   "cell_type": "markdown",
   "metadata": {},
   "source": [
    "### ll.- Determining Data\n",
    "#### A) What production metrics makes a movie successful?\n",
    "    1. Runtime - How long a movie lasts\n",
    "    2. Age Rating - The age bracket and potential age restrictions determined by the MPAA\n",
    "    3. Movie Budget - The amount invested in film production\n",
    "#### B) What metrics are affected by production?\n",
    "    1. Domestic gross - Gross revenue made released within a country\n",
    "    2. Foreign gross - Gross revenue made by the movie outside of the origin country\n",
    "    3. Worldwide gross - Gross revenue made by the movie worldwide\n",
    "    4. Box Office - The amount of money raised by ticket sales\n",
    "    5. Popularity Rating - How high would an audience rate a movie\n",
    "#### C) Where does the data come from?\n",
    "    1. Box Office Mojo - Domestic gross, foreign gross, release year\n",
    "    2. Rotten Tomatoes - MPAA rating, runtime, box office\n",
    "    3. The Movie Database - Popularity rating, average popularity vote\n",
    "    4. The Numbers - Production budget, domestic gross, worldwide gross"
   ]
  },
  {
   "cell_type": "markdown",
   "metadata": {},
   "source": [
    "### llI.- Cleaning and Modifying Data\n",
    "A) Importing data into dataframes and respective libraries"
   ]
  },
  {
   "cell_type": "code",
   "execution_count": 5,
   "metadata": {},
   "outputs": [],
   "source": [
    "import pandas as pd\n",
    "import matplotlib.pyplot as plt\n",
    "bom_movies = pd.read_csv('bom.movie_gross.csv.gz', index_col=0)\n",
    "rt_reviews = pd.read_csv(\"rt.reviews.tsv.gz\", sep = '\\t', encoding='windows-1252')\n",
    "rt_movies = pd.read_csv(\"rt.movie_info.tsv.gz\", sep = '\\t', encoding='windows-1252')\n",
    "tmdb = pd.read_csv('tmdb.movies.csv.gz', index_col=7)\n",
    "tn = pd.read_csv('tn.movie_budgets.csv.gz', index_col=2)"
   ]
  },
  {
   "cell_type": "markdown",
   "metadata": {},
   "source": [
    "B) Removing data that would potentially skew results\n",
    "    1. Non applicable data\n",
    "    2. Data containing synonymous values like zero\n",
    "C) Change data types\n",
    "    1. Changing a string into a manageable integer type\n",
    "D) Merging dataframes \n",
    "    1. Increases population for metrics such as gross revenue"
   ]
  },
  {
   "cell_type": "code",
   "execution_count": null,
   "metadata": {},
   "outputs": [],
   "source": [
    "bom_movies.dropna(inplace=True)\n",
    "rt_movies.dropna(inplace=True)"
   ]
  },
  {
   "cell_type": "markdown",
   "metadata": {},
   "source": [
    "### IV.- Analyzing Data"
   ]
  },
  {
   "cell_type": "markdown",
   "metadata": {},
   "source": [
    "### V.- Conclusion"
   ]
  }
 ],
 "metadata": {
  "kernelspec": {
   "display_name": "Python (learn-env)",
   "language": "python",
   "name": "learn-env"
  },
  "language_info": {
   "codemirror_mode": {
    "name": "ipython",
    "version": 3
   },
   "file_extension": ".py",
   "mimetype": "text/x-python",
   "name": "python",
   "nbconvert_exporter": "python",
   "pygments_lexer": "ipython3",
   "version": "3.8.5"
  }
 },
 "nbformat": 4,
 "nbformat_minor": 4
}
