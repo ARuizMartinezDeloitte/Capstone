{
 "cells": [
  {
   "cell_type": "markdown",
   "metadata": {},
   "source": [
    "# Import pandas for create Panel Data"
   ]
  },
  {
   "cell_type": "code",
   "execution_count": 1,
   "metadata": {},
   "outputs": [],
   "source": [
    "import pandas as pd"
   ]
  },
  {
   "cell_type": "markdown",
   "metadata": {},
   "source": [
    "# Import matplotlib for plotting"
   ]
  },
  {
   "cell_type": "code",
   "execution_count": 2,
   "metadata": {},
   "outputs": [],
   "source": [
    "import matplotlib.pyplot as plt"
   ]
  },
  {
   "cell_type": "markdown",
   "metadata": {},
   "source": [
    "# Import the data files into DataFrames"
   ]
  },
  {
   "cell_type": "code",
   "execution_count": 3,
   "metadata": {},
   "outputs": [],
   "source": [
    "bom_movies = pd.read_csv('bom.movie_gross.csv', index_col=0)"
   ]
  },
  {
   "cell_type": "code",
   "execution_count": 4,
   "metadata": {},
   "outputs": [],
   "source": [
    "bom_movies.dropna(inplace=True)"
   ]
  },
  {
   "cell_type": "code",
   "execution_count": 5,
   "metadata": {},
   "outputs": [],
   "source": [
    "rt_reviews = pd.read_csv(\"rt.reviews.tsv\", sep = '\\t', encoding='windows-1252')"
   ]
  },
  {
   "cell_type": "code",
   "execution_count": 6,
   "metadata": {},
   "outputs": [],
   "source": [
    "rt_movies = pd.read_csv(\"rt.movie_info.tsv\", sep = '\\t', encoding='windows-1252')"
   ]
  },
  {
   "cell_type": "code",
   "execution_count": 7,
   "metadata": {},
   "outputs": [],
   "source": [
    "rt_movies.dropna(inplace=True)"
   ]
  },
  {
   "cell_type": "code",
   "execution_count": 8,
   "metadata": {},
   "outputs": [],
   "source": [
    "tmdb = pd.read_csv('tmdb.movies.csv', index_col=7)"
   ]
  },
  {
   "cell_type": "code",
   "execution_count": 9,
   "metadata": {},
   "outputs": [],
   "source": [
    "tn = pd.read_csv('tn.movie_budgets.csv', index_col=2)"
   ]
  },
  {
   "cell_type": "markdown",
   "metadata": {},
   "source": [
    "# Format the Dataframe to begin the aggregation processs"
   ]
  },
  {
   "cell_type": "code",
   "execution_count": 10,
   "metadata": {},
   "outputs": [],
   "source": [
    "rt_movies['box_office'] = rt_movies['box_office'].str.replace(',', '')\n",
    "rt_movies['box_office'] = rt_movies['box_office'].astype(int)"
   ]
  },
  {
   "cell_type": "markdown",
   "metadata": {},
   "source": [
    "# Reset index and sort by index to merge the data"
   ]
  },
  {
   "cell_type": "code",
   "execution_count": 11,
   "metadata": {},
   "outputs": [],
   "source": [
    "df = pd.merge(bom_movies, tmdb, on = 'title')"
   ]
  },
  {
   "cell_type": "code",
   "execution_count": 12,
   "metadata": {},
   "outputs": [],
   "source": [
    "df1 = df[['studio', 'domestic_gross', 'foreign_gross', 'year', 'popularity', 'vote_average']]"
   ]
  },
  {
   "cell_type": "code",
   "execution_count": 13,
   "metadata": {},
   "outputs": [
    {
     "data": {
      "text/html": [
       "<div>\n",
       "<style scoped>\n",
       "    .dataframe tbody tr th:only-of-type {\n",
       "        vertical-align: middle;\n",
       "    }\n",
       "\n",
       "    .dataframe tbody tr th {\n",
       "        vertical-align: top;\n",
       "    }\n",
       "\n",
       "    .dataframe thead th {\n",
       "        text-align: right;\n",
       "    }\n",
       "</style>\n",
       "<table border=\"1\" class=\"dataframe\">\n",
       "  <thead>\n",
       "    <tr style=\"text-align: right;\">\n",
       "      <th></th>\n",
       "      <th>studio</th>\n",
       "      <th>domestic_gross</th>\n",
       "      <th>foreign_gross</th>\n",
       "      <th>year</th>\n",
       "      <th>popularity</th>\n",
       "      <th>vote_average</th>\n",
       "    </tr>\n",
       "    <tr>\n",
       "      <th>title</th>\n",
       "      <th></th>\n",
       "      <th></th>\n",
       "      <th></th>\n",
       "      <th></th>\n",
       "      <th></th>\n",
       "      <th></th>\n",
       "    </tr>\n",
       "  </thead>\n",
       "  <tbody>\n",
       "    <tr>\n",
       "      <th>'71</th>\n",
       "      <td>RAtt.</td>\n",
       "      <td>1300000.0</td>\n",
       "      <td>355000</td>\n",
       "      <td>2015</td>\n",
       "      <td>10.523</td>\n",
       "      <td>6.8</td>\n",
       "    </tr>\n",
       "    <tr>\n",
       "      <th>10 Cloverfield Lane</th>\n",
       "      <td>Par.</td>\n",
       "      <td>72100000.0</td>\n",
       "      <td>38100000</td>\n",
       "      <td>2016</td>\n",
       "      <td>17.892</td>\n",
       "      <td>6.9</td>\n",
       "    </tr>\n",
       "    <tr>\n",
       "      <th>11-11-11</th>\n",
       "      <td>Rocket</td>\n",
       "      <td>32800.0</td>\n",
       "      <td>5700000</td>\n",
       "      <td>2011</td>\n",
       "      <td>5.196</td>\n",
       "      <td>4.3</td>\n",
       "    </tr>\n",
       "    <tr>\n",
       "      <th>12 Strong</th>\n",
       "      <td>WB</td>\n",
       "      <td>45800000.0</td>\n",
       "      <td>21600000</td>\n",
       "      <td>2018</td>\n",
       "      <td>13.183</td>\n",
       "      <td>5.6</td>\n",
       "    </tr>\n",
       "    <tr>\n",
       "      <th>12 Years a Slave</th>\n",
       "      <td>FoxS</td>\n",
       "      <td>56700000.0</td>\n",
       "      <td>131100000</td>\n",
       "      <td>2013</td>\n",
       "      <td>16.493</td>\n",
       "      <td>7.9</td>\n",
       "    </tr>\n",
       "    <tr>\n",
       "      <th>...</th>\n",
       "      <td>...</td>\n",
       "      <td>...</td>\n",
       "      <td>...</td>\n",
       "      <td>...</td>\n",
       "      <td>...</td>\n",
       "      <td>...</td>\n",
       "    </tr>\n",
       "    <tr>\n",
       "      <th>Zero Dark Thirty</th>\n",
       "      <td>Sony</td>\n",
       "      <td>95700000.0</td>\n",
       "      <td>37100000</td>\n",
       "      <td>2012</td>\n",
       "      <td>14.239</td>\n",
       "      <td>6.9</td>\n",
       "    </tr>\n",
       "    <tr>\n",
       "      <th>Zookeeper</th>\n",
       "      <td>Sony</td>\n",
       "      <td>80400000.0</td>\n",
       "      <td>89500000</td>\n",
       "      <td>2011</td>\n",
       "      <td>10.764</td>\n",
       "      <td>5.3</td>\n",
       "    </tr>\n",
       "    <tr>\n",
       "      <th>Zoolander 2</th>\n",
       "      <td>Par.</td>\n",
       "      <td>28800000.0</td>\n",
       "      <td>27900000</td>\n",
       "      <td>2016</td>\n",
       "      <td>12.997</td>\n",
       "      <td>4.7</td>\n",
       "    </tr>\n",
       "    <tr>\n",
       "      <th>Zootopia</th>\n",
       "      <td>BV</td>\n",
       "      <td>341300000.0</td>\n",
       "      <td>682500000</td>\n",
       "      <td>2016</td>\n",
       "      <td>27.549</td>\n",
       "      <td>7.7</td>\n",
       "    </tr>\n",
       "    <tr>\n",
       "      <th>mother!</th>\n",
       "      <td>Par.</td>\n",
       "      <td>17800000.0</td>\n",
       "      <td>26700000</td>\n",
       "      <td>2017</td>\n",
       "      <td>15.227</td>\n",
       "      <td>7.0</td>\n",
       "    </tr>\n",
       "  </tbody>\n",
       "</table>\n",
       "<p>1701 rows × 6 columns</p>\n",
       "</div>"
      ],
      "text/plain": [
       "                     studio  domestic_gross foreign_gross  year  popularity  \\\n",
       "title                                                                         \n",
       "'71                   RAtt.       1300000.0        355000  2015      10.523   \n",
       "10 Cloverfield Lane    Par.      72100000.0      38100000  2016      17.892   \n",
       "11-11-11             Rocket         32800.0       5700000  2011       5.196   \n",
       "12 Strong                WB      45800000.0      21600000  2018      13.183   \n",
       "12 Years a Slave       FoxS      56700000.0     131100000  2013      16.493   \n",
       "...                     ...             ...           ...   ...         ...   \n",
       "Zero Dark Thirty       Sony      95700000.0      37100000  2012      14.239   \n",
       "Zookeeper              Sony      80400000.0      89500000  2011      10.764   \n",
       "Zoolander 2            Par.      28800000.0      27900000  2016      12.997   \n",
       "Zootopia                 BV     341300000.0     682500000  2016      27.549   \n",
       "mother!                Par.      17800000.0      26700000  2017      15.227   \n",
       "\n",
       "                     vote_average  \n",
       "title                              \n",
       "'71                           6.8  \n",
       "10 Cloverfield Lane           6.9  \n",
       "11-11-11                      4.3  \n",
       "12 Strong                     5.6  \n",
       "12 Years a Slave              7.9  \n",
       "...                           ...  \n",
       "Zero Dark Thirty              6.9  \n",
       "Zookeeper                     5.3  \n",
       "Zoolander 2                   4.7  \n",
       "Zootopia                      7.7  \n",
       "mother!                       7.0  \n",
       "\n",
       "[1701 rows x 6 columns]"
      ]
     },
     "execution_count": 13,
     "metadata": {},
     "output_type": "execute_result"
    }
   ],
   "source": [
    "df1.sort_index()"
   ]
  },
  {
   "cell_type": "code",
   "execution_count": 14,
   "metadata": {},
   "outputs": [],
   "source": [
    "tn.index.name = 'title'"
   ]
  },
  {
   "cell_type": "code",
   "execution_count": 15,
   "metadata": {},
   "outputs": [],
   "source": [
    "df4 = df1.merge(tn, on='title', how='left' )"
   ]
  },
  {
   "cell_type": "markdown",
   "metadata": {},
   "source": [
    "# More formatting on newly created Dataframes"
   ]
  },
  {
   "cell_type": "markdown",
   "metadata": {},
   "source": [
    "1. Drop a row if a null value appears\n",
    "2. Reset the index so studio becomes a column again"
   ]
  },
  {
   "cell_type": "code",
   "execution_count": 16,
   "metadata": {},
   "outputs": [],
   "source": [
    "df4.dropna(inplace=True)"
   ]
  },
  {
   "cell_type": "code",
   "execution_count": 17,
   "metadata": {},
   "outputs": [
    {
     "data": {
      "text/html": [
       "<div>\n",
       "<style scoped>\n",
       "    .dataframe tbody tr th:only-of-type {\n",
       "        vertical-align: middle;\n",
       "    }\n",
       "\n",
       "    .dataframe tbody tr th {\n",
       "        vertical-align: top;\n",
       "    }\n",
       "\n",
       "    .dataframe thead th {\n",
       "        text-align: right;\n",
       "    }\n",
       "</style>\n",
       "<table border=\"1\" class=\"dataframe\">\n",
       "  <thead>\n",
       "    <tr style=\"text-align: right;\">\n",
       "      <th></th>\n",
       "      <th>title</th>\n",
       "      <th>studio</th>\n",
       "      <th>domestic_gross_x</th>\n",
       "      <th>foreign_gross</th>\n",
       "      <th>year</th>\n",
       "      <th>popularity</th>\n",
       "      <th>vote_average</th>\n",
       "      <th>id</th>\n",
       "      <th>release_date</th>\n",
       "      <th>production_budget</th>\n",
       "      <th>domestic_gross_y</th>\n",
       "      <th>worldwide_gross</th>\n",
       "    </tr>\n",
       "  </thead>\n",
       "  <tbody>\n",
       "    <tr>\n",
       "      <th>0</th>\n",
       "      <td>Toy Story 3</td>\n",
       "      <td>BV</td>\n",
       "      <td>415000000.0</td>\n",
       "      <td>652000000</td>\n",
       "      <td>2010</td>\n",
       "      <td>24.445</td>\n",
       "      <td>7.7</td>\n",
       "      <td>47.0</td>\n",
       "      <td>Jun 18, 2010</td>\n",
       "      <td>$200,000,000</td>\n",
       "      <td>$415,004,880</td>\n",
       "      <td>$1,068,879,522</td>\n",
       "    </tr>\n",
       "    <tr>\n",
       "      <th>1</th>\n",
       "      <td>Inception</td>\n",
       "      <td>WB</td>\n",
       "      <td>292600000.0</td>\n",
       "      <td>535700000</td>\n",
       "      <td>2010</td>\n",
       "      <td>27.920</td>\n",
       "      <td>8.3</td>\n",
       "      <td>38.0</td>\n",
       "      <td>Jul 16, 2010</td>\n",
       "      <td>$160,000,000</td>\n",
       "      <td>$292,576,195</td>\n",
       "      <td>$835,524,642</td>\n",
       "    </tr>\n",
       "    <tr>\n",
       "      <th>2</th>\n",
       "      <td>Shrek Forever After</td>\n",
       "      <td>P/DW</td>\n",
       "      <td>238700000.0</td>\n",
       "      <td>513900000</td>\n",
       "      <td>2010</td>\n",
       "      <td>15.041</td>\n",
       "      <td>6.1</td>\n",
       "      <td>27.0</td>\n",
       "      <td>May 21, 2010</td>\n",
       "      <td>$165,000,000</td>\n",
       "      <td>$238,736,787</td>\n",
       "      <td>$756,244,673</td>\n",
       "    </tr>\n",
       "    <tr>\n",
       "      <th>3</th>\n",
       "      <td>The Twilight Saga: Eclipse</td>\n",
       "      <td>Sum.</td>\n",
       "      <td>300500000.0</td>\n",
       "      <td>398000000</td>\n",
       "      <td>2010</td>\n",
       "      <td>20.340</td>\n",
       "      <td>6.0</td>\n",
       "      <td>53.0</td>\n",
       "      <td>Jun 30, 2010</td>\n",
       "      <td>$68,000,000</td>\n",
       "      <td>$300,531,751</td>\n",
       "      <td>$706,102,828</td>\n",
       "    </tr>\n",
       "    <tr>\n",
       "      <th>4</th>\n",
       "      <td>Iron Man 2</td>\n",
       "      <td>Par.</td>\n",
       "      <td>312400000.0</td>\n",
       "      <td>311500000</td>\n",
       "      <td>2010</td>\n",
       "      <td>28.515</td>\n",
       "      <td>6.8</td>\n",
       "      <td>15.0</td>\n",
       "      <td>May 7, 2010</td>\n",
       "      <td>$170,000,000</td>\n",
       "      <td>$312,433,331</td>\n",
       "      <td>$621,156,389</td>\n",
       "    </tr>\n",
       "    <tr>\n",
       "      <th>...</th>\n",
       "      <td>...</td>\n",
       "      <td>...</td>\n",
       "      <td>...</td>\n",
       "      <td>...</td>\n",
       "      <td>...</td>\n",
       "      <td>...</td>\n",
       "      <td>...</td>\n",
       "      <td>...</td>\n",
       "      <td>...</td>\n",
       "      <td>...</td>\n",
       "      <td>...</td>\n",
       "      <td>...</td>\n",
       "    </tr>\n",
       "    <tr>\n",
       "      <th>1192</th>\n",
       "      <td>Hotel Artemis</td>\n",
       "      <td>Global Road</td>\n",
       "      <td>6700000.0</td>\n",
       "      <td>6000000</td>\n",
       "      <td>2018</td>\n",
       "      <td>14.585</td>\n",
       "      <td>5.9</td>\n",
       "      <td>15.0</td>\n",
       "      <td>Jun 8, 2018</td>\n",
       "      <td>$15,000,000</td>\n",
       "      <td>$6,708,137</td>\n",
       "      <td>$12,758,799</td>\n",
       "    </tr>\n",
       "    <tr>\n",
       "      <th>1193</th>\n",
       "      <td>Kin</td>\n",
       "      <td>LGF</td>\n",
       "      <td>5700000.0</td>\n",
       "      <td>4300000</td>\n",
       "      <td>2018</td>\n",
       "      <td>23.805</td>\n",
       "      <td>6.2</td>\n",
       "      <td>88.0</td>\n",
       "      <td>Aug 31, 2018</td>\n",
       "      <td>$30,000,000</td>\n",
       "      <td>$5,718,096</td>\n",
       "      <td>$10,096,821</td>\n",
       "    </tr>\n",
       "    <tr>\n",
       "      <th>1194</th>\n",
       "      <td>Suspiria</td>\n",
       "      <td>Amazon</td>\n",
       "      <td>2500000.0</td>\n",
       "      <td>5400000</td>\n",
       "      <td>2018</td>\n",
       "      <td>16.925</td>\n",
       "      <td>7.0</td>\n",
       "      <td>81.0</td>\n",
       "      <td>Oct 26, 2018</td>\n",
       "      <td>$20,000,000</td>\n",
       "      <td>$2,483,472</td>\n",
       "      <td>$7,034,615</td>\n",
       "    </tr>\n",
       "    <tr>\n",
       "      <th>1195</th>\n",
       "      <td>Destroyer</td>\n",
       "      <td>Annapurna</td>\n",
       "      <td>1500000.0</td>\n",
       "      <td>4000000</td>\n",
       "      <td>2018</td>\n",
       "      <td>17.815</td>\n",
       "      <td>5.9</td>\n",
       "      <td>5.0</td>\n",
       "      <td>Dec 25, 2018</td>\n",
       "      <td>$9,000,000</td>\n",
       "      <td>$1,533,324</td>\n",
       "      <td>$3,681,096</td>\n",
       "    </tr>\n",
       "    <tr>\n",
       "      <th>1196</th>\n",
       "      <td>Bilal: A New Breed of Hero</td>\n",
       "      <td>VE</td>\n",
       "      <td>491000.0</td>\n",
       "      <td>1700000</td>\n",
       "      <td>2018</td>\n",
       "      <td>2.707</td>\n",
       "      <td>6.8</td>\n",
       "      <td>100.0</td>\n",
       "      <td>Feb 2, 2018</td>\n",
       "      <td>$30,000,000</td>\n",
       "      <td>$490,973</td>\n",
       "      <td>$648,599</td>\n",
       "    </tr>\n",
       "  </tbody>\n",
       "</table>\n",
       "<p>1197 rows × 12 columns</p>\n",
       "</div>"
      ],
      "text/plain": [
       "                           title       studio  domestic_gross_x foreign_gross  \\\n",
       "0                    Toy Story 3           BV       415000000.0     652000000   \n",
       "1                      Inception           WB       292600000.0     535700000   \n",
       "2            Shrek Forever After         P/DW       238700000.0     513900000   \n",
       "3     The Twilight Saga: Eclipse         Sum.       300500000.0     398000000   \n",
       "4                     Iron Man 2         Par.       312400000.0     311500000   \n",
       "...                          ...          ...               ...           ...   \n",
       "1192               Hotel Artemis  Global Road         6700000.0       6000000   \n",
       "1193                         Kin          LGF         5700000.0       4300000   \n",
       "1194                    Suspiria       Amazon         2500000.0       5400000   \n",
       "1195                   Destroyer    Annapurna         1500000.0       4000000   \n",
       "1196  Bilal: A New Breed of Hero           VE          491000.0       1700000   \n",
       "\n",
       "      year  popularity  vote_average     id  release_date production_budget  \\\n",
       "0     2010      24.445           7.7   47.0  Jun 18, 2010      $200,000,000   \n",
       "1     2010      27.920           8.3   38.0  Jul 16, 2010      $160,000,000   \n",
       "2     2010      15.041           6.1   27.0  May 21, 2010      $165,000,000   \n",
       "3     2010      20.340           6.0   53.0  Jun 30, 2010       $68,000,000   \n",
       "4     2010      28.515           6.8   15.0   May 7, 2010      $170,000,000   \n",
       "...    ...         ...           ...    ...           ...               ...   \n",
       "1192  2018      14.585           5.9   15.0   Jun 8, 2018       $15,000,000   \n",
       "1193  2018      23.805           6.2   88.0  Aug 31, 2018       $30,000,000   \n",
       "1194  2018      16.925           7.0   81.0  Oct 26, 2018       $20,000,000   \n",
       "1195  2018      17.815           5.9    5.0  Dec 25, 2018        $9,000,000   \n",
       "1196  2018       2.707           6.8  100.0   Feb 2, 2018       $30,000,000   \n",
       "\n",
       "     domestic_gross_y worldwide_gross  \n",
       "0        $415,004,880  $1,068,879,522  \n",
       "1        $292,576,195    $835,524,642  \n",
       "2        $238,736,787    $756,244,673  \n",
       "3        $300,531,751    $706,102,828  \n",
       "4        $312,433,331    $621,156,389  \n",
       "...               ...             ...  \n",
       "1192       $6,708,137     $12,758,799  \n",
       "1193       $5,718,096     $10,096,821  \n",
       "1194       $2,483,472      $7,034,615  \n",
       "1195       $1,533,324      $3,681,096  \n",
       "1196         $490,973        $648,599  \n",
       "\n",
       "[1197 rows x 12 columns]"
      ]
     },
     "execution_count": 17,
     "metadata": {},
     "output_type": "execute_result"
    }
   ],
   "source": [
    "df4.reset_index()"
   ]
  },
  {
   "cell_type": "code",
   "execution_count": 18,
   "metadata": {},
   "outputs": [],
   "source": [
    "df4.drop(['domestic_gross_x', 'id'], axis = 1, inplace=True)"
   ]
  },
  {
   "cell_type": "code",
   "execution_count": 19,
   "metadata": {},
   "outputs": [],
   "source": [
    "df4.drop(['release_date'], axis = 1, inplace=True)"
   ]
  },
  {
   "cell_type": "code",
   "execution_count": 20,
   "metadata": {},
   "outputs": [
    {
     "data": {
      "text/plain": [
       "title\n",
       "Toy Story 3                  2010-01-01\n",
       "Inception                    2010-01-01\n",
       "Shrek Forever After          2010-01-01\n",
       "The Twilight Saga: Eclipse   2010-01-01\n",
       "Iron Man 2                   2010-01-01\n",
       "                                ...    \n",
       "Hotel Artemis                2018-01-01\n",
       "Kin                          2018-01-01\n",
       "Suspiria                     2018-01-01\n",
       "Destroyer                    2018-01-01\n",
       "Bilal: A New Breed of Hero   2018-01-01\n",
       "Name: year, Length: 1197, dtype: datetime64[ns]"
      ]
     },
     "execution_count": 20,
     "metadata": {},
     "output_type": "execute_result"
    }
   ],
   "source": [
    " pd.to_datetime(df4.year, format='%Y')"
   ]
  },
  {
   "cell_type": "code",
   "execution_count": 21,
   "metadata": {},
   "outputs": [],
   "source": [
    "df4['production_budget'] = df4['production_budget'].str.replace(',', '')\n",
    "df4['production_budget'] = df4['production_budget'].str.replace('$', '')\n",
    "df4['production_budget'] = df4['production_budget'].astype(int)"
   ]
  },
  {
   "cell_type": "code",
   "execution_count": 22,
   "metadata": {},
   "outputs": [],
   "source": [
    "df4['domestic_gross_y'] = df4['domestic_gross_y'].str.replace(',', '')\n",
    "df4['domestic_gross_y'] = df4['domestic_gross_y'].str.replace('$', '')\n",
    "df4['domestic_gross_y'] = df4['domestic_gross_y'].astype(int)"
   ]
  },
  {
   "cell_type": "code",
   "execution_count": 23,
   "metadata": {},
   "outputs": [],
   "source": [
    "df4['worldwide_gross'] = df4['worldwide_gross'].str.replace(',', '')\n",
    "df4['worldwide_gross'] = df4['worldwide_gross'].str.replace('$', '')\n",
    "df4['worldwide_gross'] = df4['worldwide_gross'].astype(int)"
   ]
  },
  {
   "cell_type": "code",
   "execution_count": 24,
   "metadata": {},
   "outputs": [],
   "source": [
    "df4.drop_duplicates(inplace=True)"
   ]
  },
  {
   "cell_type": "code",
   "execution_count": 25,
   "metadata": {},
   "outputs": [],
   "source": [
    "df4= df4.rename(columns={'domestic_gross_y':'domestic_gross'})"
   ]
  },
  {
   "cell_type": "code",
   "execution_count": 26,
   "metadata": {},
   "outputs": [],
   "source": [
    "df4 = df4.reset_index()"
   ]
  },
  {
   "cell_type": "markdown",
   "metadata": {},
   "source": [
    "# Filter dataframe 4 by movies that have grossed 400,000,000 dollars or more"
   ]
  },
  {
   "cell_type": "code",
   "execution_count": 27,
   "metadata": {},
   "outputs": [],
   "source": [
    "df5 = df4[df4['worldwide_gross'] > 400000000]"
   ]
  },
  {
   "cell_type": "markdown",
   "metadata": {},
   "source": [
    "Pull only columns production and revenue and sort by studio column"
   ]
  },
  {
   "cell_type": "code",
   "execution_count": 63,
   "metadata": {},
   "outputs": [
    {
     "data": {
      "text/html": [
       "<div>\n",
       "<style scoped>\n",
       "    .dataframe tbody tr th:only-of-type {\n",
       "        vertical-align: middle;\n",
       "    }\n",
       "\n",
       "    .dataframe tbody tr th {\n",
       "        vertical-align: top;\n",
       "    }\n",
       "\n",
       "    .dataframe thead th {\n",
       "        text-align: right;\n",
       "    }\n",
       "</style>\n",
       "<table border=\"1\" class=\"dataframe\">\n",
       "  <thead>\n",
       "    <tr style=\"text-align: right;\">\n",
       "      <th></th>\n",
       "      <th>production_budget</th>\n",
       "      <th>worldwide_gross</th>\n",
       "    </tr>\n",
       "    <tr>\n",
       "      <th>studio</th>\n",
       "      <th></th>\n",
       "      <th></th>\n",
       "    </tr>\n",
       "  </thead>\n",
       "  <tbody>\n",
       "    <tr>\n",
       "      <th>BV</th>\n",
       "      <td>6.831200e+09</td>\n",
       "      <td>3.176650e+10</td>\n",
       "    </tr>\n",
       "    <tr>\n",
       "      <th>WB</th>\n",
       "      <td>4.166000e+09</td>\n",
       "      <td>1.731940e+10</td>\n",
       "    </tr>\n",
       "    <tr>\n",
       "      <th>Fox</th>\n",
       "      <td>2.937000e+09</td>\n",
       "      <td>1.378231e+10</td>\n",
       "    </tr>\n",
       "    <tr>\n",
       "      <th>Uni.</th>\n",
       "      <td>1.974000e+09</td>\n",
       "      <td>1.440055e+10</td>\n",
       "    </tr>\n",
       "    <tr>\n",
       "      <th>Sony</th>\n",
       "      <td>1.440000e+09</td>\n",
       "      <td>6.862027e+09</td>\n",
       "    </tr>\n",
       "    <tr>\n",
       "      <th>Par.</th>\n",
       "      <td>1.394000e+09</td>\n",
       "      <td>4.907887e+09</td>\n",
       "    </tr>\n",
       "    <tr>\n",
       "      <th>P/DW</th>\n",
       "      <td>9.500000e+08</td>\n",
       "      <td>4.341653e+09</td>\n",
       "    </tr>\n",
       "    <tr>\n",
       "      <th>LG</th>\n",
       "      <td>5.150000e+08</td>\n",
       "      <td>3.384705e+09</td>\n",
       "    </tr>\n",
       "    <tr>\n",
       "      <th>Wein.</th>\n",
       "      <td>1.000000e+08</td>\n",
       "      <td>4.499483e+08</td>\n",
       "    </tr>\n",
       "    <tr>\n",
       "      <th>Sum.</th>\n",
       "      <td>6.800000e+07</td>\n",
       "      <td>7.061028e+08</td>\n",
       "    </tr>\n",
       "  </tbody>\n",
       "</table>\n",
       "</div>"
      ],
      "text/plain": [
       "        production_budget  worldwide_gross\n",
       "studio                                    \n",
       "BV           6.831200e+09     3.176650e+10\n",
       "WB           4.166000e+09     1.731940e+10\n",
       "Fox          2.937000e+09     1.378231e+10\n",
       "Uni.         1.974000e+09     1.440055e+10\n",
       "Sony         1.440000e+09     6.862027e+09\n",
       "Par.         1.394000e+09     4.907887e+09\n",
       "P/DW         9.500000e+08     4.341653e+09\n",
       "LG           5.150000e+08     3.384705e+09\n",
       "Wein.        1.000000e+08     4.499483e+08\n",
       "Sum.         6.800000e+07     7.061028e+08"
      ]
     },
     "execution_count": 63,
     "metadata": {},
     "output_type": "execute_result"
    }
   ],
   "source": [
    "df5[['production_budget', 'worldwide_gross', 'studio']].groupby(by='studio').sum().sort_values(by=['production_budget'], ascending=False)"
   ]
  },
  {
   "cell_type": "markdown",
   "metadata": {},
   "source": [
    "# Some studios are listed in different formats because they came from different files, so we have to rename them in a standard convention. "
   ]
  },
  {
   "cell_type": "markdown",
   "metadata": {},
   "source": [
    "1. The studios Warner bros and LionsGate are mentioned in different ways so convert them into a single convention.\n",
    "2. Find the number of unique studios."
   ]
  },
  {
   "cell_type": "code",
   "execution_count": 29,
   "metadata": {},
   "outputs": [
    {
     "name": "stderr",
     "output_type": "stream",
     "text": [
      "<ipython-input-29-1f0f1b6a0d1d>:1: SettingWithCopyWarning: \n",
      "A value is trying to be set on a copy of a slice from a DataFrame.\n",
      "Try using .loc[row_indexer,col_indexer] = value instead\n",
      "\n",
      "See the caveats in the documentation: https://pandas.pydata.org/pandas-docs/stable/user_guide/indexing.html#returning-a-view-versus-a-copy\n",
      "  df5['studio'] = df5['studio'].replace('^WB.*', 'WB', regex=True)\n"
     ]
    }
   ],
   "source": [
    "df5['studio'] = df5['studio'].replace('^WB.*', 'WB', regex=True)"
   ]
  },
  {
   "cell_type": "code",
   "execution_count": 30,
   "metadata": {},
   "outputs": [
    {
     "data": {
      "text/plain": [
       "array(['BV', 'WB', 'P/DW', 'Sum.', 'Par.', 'Uni.', 'Fox', 'Sony', 'LGF',\n",
       "       'Wein.', 'LG/S'], dtype=object)"
      ]
     },
     "execution_count": 30,
     "metadata": {},
     "output_type": "execute_result"
    }
   ],
   "source": [
    "df5['studio'].unique()"
   ]
  },
  {
   "cell_type": "code",
   "execution_count": 31,
   "metadata": {},
   "outputs": [
    {
     "name": "stderr",
     "output_type": "stream",
     "text": [
      "<ipython-input-31-8fa8652866ac>:1: SettingWithCopyWarning: \n",
      "A value is trying to be set on a copy of a slice from a DataFrame.\n",
      "Try using .loc[row_indexer,col_indexer] = value instead\n",
      "\n",
      "See the caveats in the documentation: https://pandas.pydata.org/pandas-docs/stable/user_guide/indexing.html#returning-a-view-versus-a-copy\n",
      "  df5['studio'] = df5['studio'].replace('^LG.*', 'LG', regex=True)\n"
     ]
    }
   ],
   "source": [
    "df5['studio'] = df5['studio'].replace('^LG.*', 'LG', regex=True)"
   ]
  },
  {
   "cell_type": "code",
   "execution_count": 32,
   "metadata": {},
   "outputs": [
    {
     "data": {
      "text/plain": [
       "array(['BV', 'WB', 'P/DW', 'Sum.', 'Par.', 'Uni.', 'Fox', 'Sony', 'LG',\n",
       "       'Wein.'], dtype=object)"
      ]
     },
     "execution_count": 32,
     "metadata": {},
     "output_type": "execute_result"
    }
   ],
   "source": [
    "df5['studio'].unique()"
   ]
  },
  {
   "cell_type": "markdown",
   "metadata": {},
   "source": [
    "# Group the new dataframe by studio and average all columns and sort by Worldwide_gross so to graph them."
   ]
  },
  {
   "cell_type": "code",
   "execution_count": 55,
   "metadata": {},
   "outputs": [],
   "source": [
    "x = list(df5['studio'].unique())"
   ]
  },
  {
   "cell_type": "code",
   "execution_count": 56,
   "metadata": {},
   "outputs": [
    {
     "data": {
      "text/plain": [
       "['BV', 'WB', 'P/DW', 'Sum.', 'Par.', 'Uni.', 'Fox', 'Sony', 'LG', 'Wein.']"
      ]
     },
     "execution_count": 56,
     "metadata": {},
     "output_type": "execute_result"
    }
   ],
   "source": [
    "x"
   ]
  },
  {
   "cell_type": "code",
   "execution_count": 57,
   "metadata": {},
   "outputs": [],
   "source": [
    "revenue = df5.loc[:, df5.columns != 'year'].groupby(by = 'studio').mean().sort_values(by=['worldwide_gross'], ascending=False)['worldwide_gross']"
   ]
  },
  {
   "cell_type": "code",
   "execution_count": 58,
   "metadata": {},
   "outputs": [],
   "source": [
    "expense = df5.loc[:, df5.columns != 'year'].groupby(by = 'studio').mean().sort_values(by=['production_budget'], ascending=False)['production_budget']"
   ]
  },
  {
   "cell_type": "code",
   "execution_count": 59,
   "metadata": {},
   "outputs": [
    {
     "data": {
      "text/plain": [
       "137083645.6582633"
      ]
     },
     "execution_count": 59,
     "metadata": {},
     "output_type": "execute_result"
    }
   ],
   "source": [
    "expense.mean()"
   ]
  },
  {
   "cell_type": "markdown",
   "metadata": {},
   "source": [
    "# Make a stacked bar chart for movies that made 400,000,000 or more depicting the world_gross and budget ratio."
   ]
  },
  {
   "cell_type": "code",
   "execution_count": 60,
   "metadata": {},
   "outputs": [
    {
     "data": {
      "image/png": "[encoded data removed]",
      "text/plain": [
       "<Figure size 432x288 with 1 Axes>"
      ]
     },
     "metadata": {
      "needs_background": "light"
     },
     "output_type": "display_data"
    }
   ],
   "source": [
    "plt.bar(x, expense, color='r')\n",
    "plt.bar(x, revenue, bottom=expense, color='b')\n",
    "plt.show()"
   ]
  },
  {
   "cell_type": "code",
   "execution_count": 39,
   "metadata": {},
   "outputs": [],
   "source": [
    "df20 =  df5.loc[:, df5.columns != 'year'].groupby(by = 'studio').sum().sort_values(by=['worldwide_gross'], ascending=False)[[ 'production_budget', 'worldwide_gross']]"
   ]
  },
  {
   "cell_type": "code",
   "execution_count": 40,
   "metadata": {},
   "outputs": [
    {
     "data": {
      "text/html": [
       "<div>\n",
       "<style scoped>\n",
       "    .dataframe tbody tr th:only-of-type {\n",
       "        vertical-align: middle;\n",
       "    }\n",
       "\n",
       "    .dataframe tbody tr th {\n",
       "        vertical-align: top;\n",
       "    }\n",
       "\n",
       "    .dataframe thead th {\n",
       "        text-align: right;\n",
       "    }\n",
       "</style>\n",
       "<table border=\"1\" class=\"dataframe\">\n",
       "  <thead>\n",
       "    <tr style=\"text-align: right;\">\n",
       "      <th></th>\n",
       "      <th>production_budget</th>\n",
       "      <th>worldwide_gross</th>\n",
       "    </tr>\n",
       "    <tr>\n",
       "      <th>studio</th>\n",
       "      <th></th>\n",
       "      <th></th>\n",
       "    </tr>\n",
       "  </thead>\n",
       "  <tbody>\n",
       "    <tr>\n",
       "      <th>BV</th>\n",
       "      <td>1.951771e+08</td>\n",
       "      <td>9.076144e+08</td>\n",
       "    </tr>\n",
       "    <tr>\n",
       "      <th>Fox</th>\n",
       "      <td>1.223750e+08</td>\n",
       "      <td>5.742631e+08</td>\n",
       "    </tr>\n",
       "    <tr>\n",
       "      <th>LG</th>\n",
       "      <td>1.030000e+08</td>\n",
       "      <td>6.769409e+08</td>\n",
       "    </tr>\n",
       "    <tr>\n",
       "      <th>P/DW</th>\n",
       "      <td>1.583333e+08</td>\n",
       "      <td>7.236088e+08</td>\n",
       "    </tr>\n",
       "    <tr>\n",
       "      <th>Par.</th>\n",
       "      <td>1.742500e+08</td>\n",
       "      <td>6.134858e+08</td>\n",
       "    </tr>\n",
       "    <tr>\n",
       "      <th>Sony</th>\n",
       "      <td>1.600000e+08</td>\n",
       "      <td>7.624474e+08</td>\n",
       "    </tr>\n",
       "    <tr>\n",
       "      <th>Sum.</th>\n",
       "      <td>6.800000e+07</td>\n",
       "      <td>7.061028e+08</td>\n",
       "    </tr>\n",
       "    <tr>\n",
       "      <th>Uni.</th>\n",
       "      <td>1.161176e+08</td>\n",
       "      <td>8.470909e+08</td>\n",
       "    </tr>\n",
       "    <tr>\n",
       "      <th>WB</th>\n",
       "      <td>1.735833e+08</td>\n",
       "      <td>7.216417e+08</td>\n",
       "    </tr>\n",
       "    <tr>\n",
       "      <th>Wein.</th>\n",
       "      <td>1.000000e+08</td>\n",
       "      <td>4.499483e+08</td>\n",
       "    </tr>\n",
       "  </tbody>\n",
       "</table>\n",
       "</div>"
      ],
      "text/plain": [
       "        production_budget  worldwide_gross\n",
       "studio                                    \n",
       "BV           1.951771e+08     9.076144e+08\n",
       "Fox          1.223750e+08     5.742631e+08\n",
       "LG           1.030000e+08     6.769409e+08\n",
       "P/DW         1.583333e+08     7.236088e+08\n",
       "Par.         1.742500e+08     6.134858e+08\n",
       "Sony         1.600000e+08     7.624474e+08\n",
       "Sum.         6.800000e+07     7.061028e+08\n",
       "Uni.         1.161176e+08     8.470909e+08\n",
       "WB           1.735833e+08     7.216417e+08\n",
       "Wein.        1.000000e+08     4.499483e+08"
      ]
     },
     "execution_count": 40,
     "metadata": {},
     "output_type": "execute_result"
    }
   ],
   "source": [
    "df5[['production_budget','worldwide_gross', 'studio']].groupby(by='studio').mean()"
   ]
  },
  {
   "cell_type": "markdown",
   "metadata": {},
   "source": [
    "# Create a bar chart for movie ratings and the average revenue they generated "
   ]
  },
  {
   "cell_type": "code",
   "execution_count": 41,
   "metadata": {},
   "outputs": [],
   "source": [
    "ratings = rt_movies.groupby(by='rating').mean().sort_values(by=['box_office'], ascending=False)"
   ]
  },
  {
   "cell_type": "code",
   "execution_count": 42,
   "metadata": {},
   "outputs": [],
   "source": [
    "ratings.drop(['id'], inplace=True, axis = 1)"
   ]
  },
  {
   "cell_type": "code",
   "execution_count": 43,
   "metadata": {},
   "outputs": [],
   "source": [
    "ratings.reset_index(inplace=True)"
   ]
  },
  {
   "cell_type": "code",
   "execution_count": 44,
   "metadata": {},
   "outputs": [
    {
     "data": {
      "image/png": "[encoded data removed]",
      "text/plain": [
       "<Figure size 432x288 with 1 Axes>"
      ]
     },
     "metadata": {
      "needs_background": "light"
     },
     "output_type": "display_data"
    }
   ],
   "source": [
    "x = ratings.rating\n",
    "y = ratings.box_office\n",
    "plt.bar(x, y, color ='green',\n",
    "        width = 0.4)\n",
    " \n",
    "plt.xlabel(\"MPAA Rating\")\n",
    "plt.ylabel(\"Average earnings (10s of Millions) \")\n",
    "plt.title(\"Average earnings of different MPAA Ratings\")\n",
    "plt.show()"
   ]
  },
  {
   "cell_type": "markdown",
   "metadata": {},
   "source": [
    "# Filter the rotten tomatoes dataframe to find the average movie runtime"
   ]
  },
  {
   "cell_type": "code",
   "execution_count": 45,
   "metadata": {},
   "outputs": [],
   "source": [
    "rt_movies['runtime'] = rt_movies['runtime'].str[:-8].astype(int)"
   ]
  },
  {
   "cell_type": "code",
   "execution_count": 46,
   "metadata": {},
   "outputs": [
    {
     "data": {
      "text/plain": [
       "106.66382978723404"
      ]
     },
     "execution_count": 46,
     "metadata": {},
     "output_type": "execute_result"
    }
   ],
   "source": [
    "rt_movies['runtime'].mean()"
   ]
  },
  {
   "cell_type": "markdown",
   "metadata": {},
   "source": [
    "1.Im\n",
    "2.create a new column that states 'Y' if the runtime is greater than average runtime and 'N' if runtime is not greater than the average runtime"
   ]
  },
  {
   "cell_type": "code",
   "execution_count": 47,
   "metadata": {},
   "outputs": [],
   "source": [
    "import numpy as np"
   ]
  },
  {
   "cell_type": "code",
   "execution_count": 48,
   "metadata": {},
   "outputs": [],
   "source": [
    "rt_movies['long'] = np.where(rt_movies['runtime']> 107, 'Y', 'N')"
   ]
  },
  {
   "cell_type": "code",
   "execution_count": 49,
   "metadata": {},
   "outputs": [],
   "source": [
    "long = rt_movies[['box_office', 'rating', 'long']].groupby(by = 'long').mean()"
   ]
  },
  {
   "cell_type": "code",
   "execution_count": 50,
   "metadata": {},
   "outputs": [],
   "source": [
    "long.reset_index(inplace=True)"
   ]
  },
  {
   "cell_type": "code",
   "execution_count": 51,
   "metadata": {},
   "outputs": [],
   "source": [
    "y = long.box_office"
   ]
  },
  {
   "cell_type": "code",
   "execution_count": 52,
   "metadata": {},
   "outputs": [],
   "source": [
    "x = long.long"
   ]
  },
  {
   "cell_type": "code",
   "execution_count": 53,
   "metadata": {},
   "outputs": [
    {
     "data": {
      "image/png": "[encoded data removed]",
      "text/plain": [
       "<Figure size 432x288 with 1 Axes>"
      ]
     },
     "metadata": {
      "needs_background": "light"
     },
     "output_type": "display_data"
    }
   ],
   "source": [
    "plt.bar(x, y, color ='blue',\n",
    "        width = 0.4)\n",
    " \n",
    "plt.xlabel(\"Long Movie?\")\n",
    "plt.ylabel(\"Average earnings (10s of Millions)\")\n",
    "plt.title(\"Average earnings of different movie lengths\")\n",
    "plt.show()"
   ]
  },
  {
   "cell_type": "code",
   "execution_count": 104,
   "metadata": {},
   "outputs": [
    {
     "data": {
      "text/html": [
       "<div>\n",
       "<style scoped>\n",
       "    .dataframe tbody tr th:only-of-type {\n",
       "        vertical-align: middle;\n",
       "    }\n",
       "\n",
       "    .dataframe tbody tr th {\n",
       "        vertical-align: top;\n",
       "    }\n",
       "\n",
       "    .dataframe thead th {\n",
       "        text-align: right;\n",
       "    }\n",
       "</style>\n",
       "<table border=\"1\" class=\"dataframe\">\n",
       "  <thead>\n",
       "    <tr style=\"text-align: right;\">\n",
       "      <th></th>\n",
       "      <th>studio</th>\n",
       "      <th>production_budget</th>\n",
       "      <th>worldwide_gross</th>\n",
       "    </tr>\n",
       "  </thead>\n",
       "  <tbody>\n",
       "    <tr>\n",
       "      <th>0</th>\n",
       "      <td>BV</td>\n",
       "      <td>6.831200e+09</td>\n",
       "      <td>3.176650e+10</td>\n",
       "    </tr>\n",
       "    <tr>\n",
       "      <th>1</th>\n",
       "      <td>WB</td>\n",
       "      <td>3.271000e+09</td>\n",
       "      <td>1.324274e+10</td>\n",
       "    </tr>\n",
       "    <tr>\n",
       "      <th>2</th>\n",
       "      <td>Fox</td>\n",
       "      <td>2.937000e+09</td>\n",
       "      <td>1.378231e+10</td>\n",
       "    </tr>\n",
       "    <tr>\n",
       "      <th>3</th>\n",
       "      <td>Uni.</td>\n",
       "      <td>1.974000e+09</td>\n",
       "      <td>1.440055e+10</td>\n",
       "    </tr>\n",
       "    <tr>\n",
       "      <th>4</th>\n",
       "      <td>Sony</td>\n",
       "      <td>1.440000e+09</td>\n",
       "      <td>6.862027e+09</td>\n",
       "    </tr>\n",
       "    <tr>\n",
       "      <th>5</th>\n",
       "      <td>Par.</td>\n",
       "      <td>1.394000e+09</td>\n",
       "      <td>4.907887e+09</td>\n",
       "    </tr>\n",
       "    <tr>\n",
       "      <th>6</th>\n",
       "      <td>P/DW</td>\n",
       "      <td>9.500000e+08</td>\n",
       "      <td>4.341653e+09</td>\n",
       "    </tr>\n",
       "    <tr>\n",
       "      <th>7</th>\n",
       "      <td>WB (NL)</td>\n",
       "      <td>8.950000e+08</td>\n",
       "      <td>4.076665e+09</td>\n",
       "    </tr>\n",
       "    <tr>\n",
       "      <th>8</th>\n",
       "      <td>LGF</td>\n",
       "      <td>4.950000e+08</td>\n",
       "      <td>2.958353e+09</td>\n",
       "    </tr>\n",
       "    <tr>\n",
       "      <th>9</th>\n",
       "      <td>Wein.</td>\n",
       "      <td>1.000000e+08</td>\n",
       "      <td>4.499483e+08</td>\n",
       "    </tr>\n",
       "    <tr>\n",
       "      <th>10</th>\n",
       "      <td>Sum.</td>\n",
       "      <td>6.800000e+07</td>\n",
       "      <td>7.061028e+08</td>\n",
       "    </tr>\n",
       "    <tr>\n",
       "      <th>11</th>\n",
       "      <td>LG/S</td>\n",
       "      <td>2.000000e+07</td>\n",
       "      <td>4.263512e+08</td>\n",
       "    </tr>\n",
       "  </tbody>\n",
       "</table>\n",
       "</div>"
      ],
      "text/plain": [
       "     studio  production_budget  worldwide_gross\n",
       "0        BV       6.831200e+09     3.176650e+10\n",
       "1        WB       3.271000e+09     1.324274e+10\n",
       "2       Fox       2.937000e+09     1.378231e+10\n",
       "3      Uni.       1.974000e+09     1.440055e+10\n",
       "4      Sony       1.440000e+09     6.862027e+09\n",
       "5      Par.       1.394000e+09     4.907887e+09\n",
       "6      P/DW       9.500000e+08     4.341653e+09\n",
       "7   WB (NL)       8.950000e+08     4.076665e+09\n",
       "8       LGF       4.950000e+08     2.958353e+09\n",
       "9     Wein.       1.000000e+08     4.499483e+08\n",
       "10     Sum.       6.800000e+07     7.061028e+08\n",
       "11     LG/S       2.000000e+07     4.263512e+08"
      ]
     },
     "execution_count": 104,
     "metadata": {},
     "output_type": "execute_result"
    }
   ],
   "source": [
    "movie_budget_df = df4[df4['worldwide_gross'] > 400000000]\n",
    "movie_budget_df = movie_budget_df[['production_budget', 'worldwide_gross', 'studio']].groupby(by='studio').sum().sort_values(by=['production_budget'], ascending=False)\n",
    "movie_budget_df.reset_index(inplace=True)\n",
    "movie_budget_df"
   ]
  },
  {
   "cell_type": "code",
   "execution_count": 105,
   "metadata": {},
   "outputs": [
    {
     "data": {
      "text/plain": [
       "0        BV\n",
       "1        WB\n",
       "2       Fox\n",
       "3      Uni.\n",
       "4      Sony\n",
       "5      Par.\n",
       "6      P/DW\n",
       "7        WB\n",
       "8        LG\n",
       "9     Wein.\n",
       "10     Sum.\n",
       "11       LG\n",
       "Name: studio, dtype: object"
      ]
     },
     "execution_count": 105,
     "metadata": {},
     "output_type": "execute_result"
    }
   ],
   "source": [
    "movie_budget_df['studio'] = movie_budget_df['studio'].replace('^WB.*', 'WB', regex=True)\n",
    "movie_budget_df['studio'] = movie_budget_df['studio'].replace('^LG.*', 'LG', regex=True)\n",
    "movie_budget_df['studio']"
   ]
  },
  {
   "cell_type": "code",
   "execution_count": 106,
   "metadata": {},
   "outputs": [
    {
     "data": {
      "text/html": [
       "<div>\n",
       "<style scoped>\n",
       "    .dataframe tbody tr th:only-of-type {\n",
       "        vertical-align: middle;\n",
       "    }\n",
       "\n",
       "    .dataframe tbody tr th {\n",
       "        vertical-align: top;\n",
       "    }\n",
       "\n",
       "    .dataframe thead th {\n",
       "        text-align: right;\n",
       "    }\n",
       "</style>\n",
       "<table border=\"1\" class=\"dataframe\">\n",
       "  <thead>\n",
       "    <tr style=\"text-align: right;\">\n",
       "      <th></th>\n",
       "      <th>studio</th>\n",
       "      <th>production_budget</th>\n",
       "      <th>worldwide_gross</th>\n",
       "    </tr>\n",
       "  </thead>\n",
       "  <tbody>\n",
       "    <tr>\n",
       "      <th>0</th>\n",
       "      <td>BV</td>\n",
       "      <td>6.831200e+09</td>\n",
       "      <td>3.176650e+10</td>\n",
       "    </tr>\n",
       "    <tr>\n",
       "      <th>1</th>\n",
       "      <td>WB</td>\n",
       "      <td>4.166000e+09</td>\n",
       "      <td>1.731940e+10</td>\n",
       "    </tr>\n",
       "    <tr>\n",
       "      <th>2</th>\n",
       "      <td>Fox</td>\n",
       "      <td>2.937000e+09</td>\n",
       "      <td>1.378231e+10</td>\n",
       "    </tr>\n",
       "    <tr>\n",
       "      <th>3</th>\n",
       "      <td>Uni.</td>\n",
       "      <td>1.974000e+09</td>\n",
       "      <td>1.440055e+10</td>\n",
       "    </tr>\n",
       "    <tr>\n",
       "      <th>4</th>\n",
       "      <td>Sony</td>\n",
       "      <td>1.440000e+09</td>\n",
       "      <td>6.862027e+09</td>\n",
       "    </tr>\n",
       "    <tr>\n",
       "      <th>5</th>\n",
       "      <td>Par.</td>\n",
       "      <td>1.394000e+09</td>\n",
       "      <td>4.907887e+09</td>\n",
       "    </tr>\n",
       "    <tr>\n",
       "      <th>6</th>\n",
       "      <td>P/DW</td>\n",
       "      <td>9.500000e+08</td>\n",
       "      <td>4.341653e+09</td>\n",
       "    </tr>\n",
       "    <tr>\n",
       "      <th>7</th>\n",
       "      <td>LG</td>\n",
       "      <td>5.150000e+08</td>\n",
       "      <td>3.384705e+09</td>\n",
       "    </tr>\n",
       "    <tr>\n",
       "      <th>8</th>\n",
       "      <td>Wein.</td>\n",
       "      <td>1.000000e+08</td>\n",
       "      <td>4.499483e+08</td>\n",
       "    </tr>\n",
       "    <tr>\n",
       "      <th>9</th>\n",
       "      <td>Sum.</td>\n",
       "      <td>6.800000e+07</td>\n",
       "      <td>7.061028e+08</td>\n",
       "    </tr>\n",
       "  </tbody>\n",
       "</table>\n",
       "</div>"
      ],
      "text/plain": [
       "  studio  production_budget  worldwide_gross\n",
       "0     BV       6.831200e+09     3.176650e+10\n",
       "1     WB       4.166000e+09     1.731940e+10\n",
       "2    Fox       2.937000e+09     1.378231e+10\n",
       "3   Uni.       1.974000e+09     1.440055e+10\n",
       "4   Sony       1.440000e+09     6.862027e+09\n",
       "5   Par.       1.394000e+09     4.907887e+09\n",
       "6   P/DW       9.500000e+08     4.341653e+09\n",
       "7     LG       5.150000e+08     3.384705e+09\n",
       "8  Wein.       1.000000e+08     4.499483e+08\n",
       "9   Sum.       6.800000e+07     7.061028e+08"
      ]
     },
     "execution_count": 106,
     "metadata": {},
     "output_type": "execute_result"
    }
   ],
   "source": [
    "movie_budget_df = movie_budget_df.groupby(movie_budget_df[\"studio\"], sort=False).sum()\n",
    "movie_budget_df.reset_index()"
   ]
  },
  {
   "cell_type": "code",
   "execution_count": 72,
   "metadata": {},
   "outputs": [],
   "source": [
    "#Our X-Values will be the studios\n",
    "x = list(movie_budget_df.index)\n",
    "\n",
    "#We need 2 bars to make a stacked bar chart. The revenue will on average be greater than the expense.\n",
    "#Because of this, we will graph the expense on top of the revenue\n",
    "revenue_y = movie_budget_df.groupby(by = 'studio').mean().sort_values(by=['worldwide_gross'], ascending=False)['worldwide_gross']\n",
    "expense_y = movie_budget_df.groupby(by = 'studio').mean().sort_values(by=['production_budget'], ascending=False)['production_budget']\n"
   ]
  },
  {
   "cell_type": "code",
   "execution_count": 73,
   "metadata": {},
   "outputs": [
    {
     "data": {
      "image/png": "[encoded data removed]",
      "text/plain": [
       "<Figure size 432x288 with 1 Axes>"
      ]
     },
     "metadata": {
      "needs_background": "light"
     },
     "output_type": "display_data"
    }
   ],
   "source": [
    "plt.bar(x, expense_y, color='r')\n",
    "plt.bar(x, revenue_y, bottom=expense_y, color='b')\n",
    "plt.xlabel(\"Studio\")\n",
    "plt.ylabel(\"Budget in Hundred of Millions\")\n",
    "plt.title(\"Prouduction Budget of Studios\")\n",
    "plt.show()"
   ]
  },
  {
   "cell_type": "code",
   "execution_count": 93,
   "metadata": {},
   "outputs": [],
   "source": [
    "movie_budget_df = df4[df4['worldwide_gross'] > 400000000]\n",
    "#movie_budget_df = movie_budget_df[['production_budget', 'worldwide_gross', 'studio']].groupby(by='studio')"
   ]
  },
  {
   "cell_type": "code",
   "execution_count": 94,
   "metadata": {},
   "outputs": [
    {
     "data": {
      "text/html": [
       "<div>\n",
       "<style scoped>\n",
       "    .dataframe tbody tr th:only-of-type {\n",
       "        vertical-align: middle;\n",
       "    }\n",
       "\n",
       "    .dataframe tbody tr th {\n",
       "        vertical-align: top;\n",
       "    }\n",
       "\n",
       "    .dataframe thead th {\n",
       "        text-align: right;\n",
       "    }\n",
       "</style>\n",
       "<table border=\"1\" class=\"dataframe\">\n",
       "  <thead>\n",
       "    <tr style=\"text-align: right;\">\n",
       "      <th></th>\n",
       "      <th>title</th>\n",
       "      <th>studio</th>\n",
       "      <th>foreign_gross</th>\n",
       "      <th>year</th>\n",
       "      <th>popularity</th>\n",
       "      <th>vote_average</th>\n",
       "      <th>production_budget</th>\n",
       "      <th>domestic_gross</th>\n",
       "      <th>worldwide_gross</th>\n",
       "    </tr>\n",
       "  </thead>\n",
       "  <tbody>\n",
       "    <tr>\n",
       "      <th>0</th>\n",
       "      <td>Toy Story 3</td>\n",
       "      <td>BV</td>\n",
       "      <td>652000000</td>\n",
       "      <td>2010</td>\n",
       "      <td>24.445</td>\n",
       "      <td>7.7</td>\n",
       "      <td>200000000</td>\n",
       "      <td>415004880</td>\n",
       "      <td>1068879522</td>\n",
       "    </tr>\n",
       "    <tr>\n",
       "      <th>1</th>\n",
       "      <td>Inception</td>\n",
       "      <td>WB</td>\n",
       "      <td>535700000</td>\n",
       "      <td>2010</td>\n",
       "      <td>27.920</td>\n",
       "      <td>8.3</td>\n",
       "      <td>160000000</td>\n",
       "      <td>292576195</td>\n",
       "      <td>835524642</td>\n",
       "    </tr>\n",
       "    <tr>\n",
       "      <th>2</th>\n",
       "      <td>Shrek Forever After</td>\n",
       "      <td>P/DW</td>\n",
       "      <td>513900000</td>\n",
       "      <td>2010</td>\n",
       "      <td>15.041</td>\n",
       "      <td>6.1</td>\n",
       "      <td>165000000</td>\n",
       "      <td>238736787</td>\n",
       "      <td>756244673</td>\n",
       "    </tr>\n",
       "    <tr>\n",
       "      <th>3</th>\n",
       "      <td>The Twilight Saga: Eclipse</td>\n",
       "      <td>Sum.</td>\n",
       "      <td>398000000</td>\n",
       "      <td>2010</td>\n",
       "      <td>20.340</td>\n",
       "      <td>6.0</td>\n",
       "      <td>68000000</td>\n",
       "      <td>300531751</td>\n",
       "      <td>706102828</td>\n",
       "    </tr>\n",
       "    <tr>\n",
       "      <th>4</th>\n",
       "      <td>Iron Man 2</td>\n",
       "      <td>Par.</td>\n",
       "      <td>311500000</td>\n",
       "      <td>2010</td>\n",
       "      <td>28.515</td>\n",
       "      <td>6.8</td>\n",
       "      <td>170000000</td>\n",
       "      <td>312433331</td>\n",
       "      <td>621156389</td>\n",
       "    </tr>\n",
       "    <tr>\n",
       "      <th>...</th>\n",
       "      <td>...</td>\n",
       "      <td>...</td>\n",
       "      <td>...</td>\n",
       "      <td>...</td>\n",
       "      <td>...</td>\n",
       "      <td>...</td>\n",
       "      <td>...</td>\n",
       "      <td>...</td>\n",
       "      <td>...</td>\n",
       "    </tr>\n",
       "    <tr>\n",
       "      <th>1010</th>\n",
       "      <td>Ant-Man and the Wasp</td>\n",
       "      <td>BV</td>\n",
       "      <td>406000000</td>\n",
       "      <td>2018</td>\n",
       "      <td>44.729</td>\n",
       "      <td>7.0</td>\n",
       "      <td>130000000</td>\n",
       "      <td>216648740</td>\n",
       "      <td>623144660</td>\n",
       "    </tr>\n",
       "    <tr>\n",
       "      <th>1011</th>\n",
       "      <td>Ready Player One</td>\n",
       "      <td>WB</td>\n",
       "      <td>445200000</td>\n",
       "      <td>2018</td>\n",
       "      <td>30.029</td>\n",
       "      <td>7.6</td>\n",
       "      <td>150000000</td>\n",
       "      <td>137690172</td>\n",
       "      <td>579290136</td>\n",
       "    </tr>\n",
       "    <tr>\n",
       "      <th>1012</th>\n",
       "      <td>The Meg</td>\n",
       "      <td>WB</td>\n",
       "      <td>384800000</td>\n",
       "      <td>2018</td>\n",
       "      <td>31.397</td>\n",
       "      <td>5.9</td>\n",
       "      <td>178000000</td>\n",
       "      <td>145443742</td>\n",
       "      <td>529530715</td>\n",
       "    </tr>\n",
       "    <tr>\n",
       "      <th>1013</th>\n",
       "      <td>Hotel Transylvania 3: Summer Vacation</td>\n",
       "      <td>Sony</td>\n",
       "      <td>361100000</td>\n",
       "      <td>2018</td>\n",
       "      <td>26.815</td>\n",
       "      <td>6.8</td>\n",
       "      <td>65000000</td>\n",
       "      <td>167500092</td>\n",
       "      <td>527079962</td>\n",
       "    </tr>\n",
       "    <tr>\n",
       "      <th>1014</th>\n",
       "      <td>Bumblebee</td>\n",
       "      <td>Par.</td>\n",
       "      <td>340800000</td>\n",
       "      <td>2018</td>\n",
       "      <td>43.078</td>\n",
       "      <td>6.5</td>\n",
       "      <td>102000000</td>\n",
       "      <td>127195589</td>\n",
       "      <td>465195589</td>\n",
       "    </tr>\n",
       "  </tbody>\n",
       "</table>\n",
       "<p>130 rows × 9 columns</p>\n",
       "</div>"
      ],
      "text/plain": [
       "                                      title studio foreign_gross  year  \\\n",
       "0                               Toy Story 3     BV     652000000  2010   \n",
       "1                                 Inception     WB     535700000  2010   \n",
       "2                       Shrek Forever After   P/DW     513900000  2010   \n",
       "3                The Twilight Saga: Eclipse   Sum.     398000000  2010   \n",
       "4                                Iron Man 2   Par.     311500000  2010   \n",
       "...                                     ...    ...           ...   ...   \n",
       "1010                   Ant-Man and the Wasp     BV     406000000  2018   \n",
       "1011                       Ready Player One     WB     445200000  2018   \n",
       "1012                                The Meg     WB     384800000  2018   \n",
       "1013  Hotel Transylvania 3: Summer Vacation   Sony     361100000  2018   \n",
       "1014                              Bumblebee   Par.     340800000  2018   \n",
       "\n",
       "      popularity  vote_average  production_budget  domestic_gross  \\\n",
       "0         24.445           7.7          200000000       415004880   \n",
       "1         27.920           8.3          160000000       292576195   \n",
       "2         15.041           6.1          165000000       238736787   \n",
       "3         20.340           6.0           68000000       300531751   \n",
       "4         28.515           6.8          170000000       312433331   \n",
       "...          ...           ...                ...             ...   \n",
       "1010      44.729           7.0          130000000       216648740   \n",
       "1011      30.029           7.6          150000000       137690172   \n",
       "1012      31.397           5.9          178000000       145443742   \n",
       "1013      26.815           6.8           65000000       167500092   \n",
       "1014      43.078           6.5          102000000       127195589   \n",
       "\n",
       "      worldwide_gross  \n",
       "0          1068879522  \n",
       "1           835524642  \n",
       "2           756244673  \n",
       "3           706102828  \n",
       "4           621156389  \n",
       "...               ...  \n",
       "1010        623144660  \n",
       "1011        579290136  \n",
       "1012        529530715  \n",
       "1013        527079962  \n",
       "1014        465195589  \n",
       "\n",
       "[130 rows x 9 columns]"
      ]
     },
     "execution_count": 94,
     "metadata": {},
     "output_type": "execute_result"
    }
   ],
   "source": [
    "#movie_budget_df.reset_index(inplace=True)\n",
    "movie_budget_df\n"
   ]
  },
  {
   "cell_type": "code",
   "execution_count": 95,
   "metadata": {},
   "outputs": [
    {
     "name": "stderr",
     "output_type": "stream",
     "text": [
      "<ipython-input-95-26c450512427>:1: SettingWithCopyWarning: \n",
      "A value is trying to be set on a copy of a slice from a DataFrame.\n",
      "Try using .loc[row_indexer,col_indexer] = value instead\n",
      "\n",
      "See the caveats in the documentation: https://pandas.pydata.org/pandas-docs/stable/user_guide/indexing.html#returning-a-view-versus-a-copy\n",
      "  movie_budget_df['studio'] = movie_budget_df['studio'].replace('^WB.*', 'WB', regex=True)\n",
      "<ipython-input-95-26c450512427>:2: SettingWithCopyWarning: \n",
      "A value is trying to be set on a copy of a slice from a DataFrame.\n",
      "Try using .loc[row_indexer,col_indexer] = value instead\n",
      "\n",
      "See the caveats in the documentation: https://pandas.pydata.org/pandas-docs/stable/user_guide/indexing.html#returning-a-view-versus-a-copy\n",
      "  movie_budget_df['studio'] = movie_budget_df['studio'].replace('^LG.*', 'LG', regex=True)\n"
     ]
    },
    {
     "data": {
      "text/html": [
       "<div>\n",
       "<style scoped>\n",
       "    .dataframe tbody tr th:only-of-type {\n",
       "        vertical-align: middle;\n",
       "    }\n",
       "\n",
       "    .dataframe tbody tr th {\n",
       "        vertical-align: top;\n",
       "    }\n",
       "\n",
       "    .dataframe thead th {\n",
       "        text-align: right;\n",
       "    }\n",
       "</style>\n",
       "<table border=\"1\" class=\"dataframe\">\n",
       "  <thead>\n",
       "    <tr style=\"text-align: right;\">\n",
       "      <th></th>\n",
       "      <th>title</th>\n",
       "      <th>studio</th>\n",
       "      <th>foreign_gross</th>\n",
       "      <th>year</th>\n",
       "      <th>popularity</th>\n",
       "      <th>vote_average</th>\n",
       "      <th>production_budget</th>\n",
       "      <th>domestic_gross</th>\n",
       "      <th>worldwide_gross</th>\n",
       "    </tr>\n",
       "  </thead>\n",
       "  <tbody>\n",
       "    <tr>\n",
       "      <th>0</th>\n",
       "      <td>Toy Story 3</td>\n",
       "      <td>BV</td>\n",
       "      <td>652000000</td>\n",
       "      <td>2010</td>\n",
       "      <td>24.445</td>\n",
       "      <td>7.7</td>\n",
       "      <td>200000000</td>\n",
       "      <td>415004880</td>\n",
       "      <td>1068879522</td>\n",
       "    </tr>\n",
       "    <tr>\n",
       "      <th>1</th>\n",
       "      <td>Inception</td>\n",
       "      <td>WB</td>\n",
       "      <td>535700000</td>\n",
       "      <td>2010</td>\n",
       "      <td>27.920</td>\n",
       "      <td>8.3</td>\n",
       "      <td>160000000</td>\n",
       "      <td>292576195</td>\n",
       "      <td>835524642</td>\n",
       "    </tr>\n",
       "    <tr>\n",
       "      <th>2</th>\n",
       "      <td>Shrek Forever After</td>\n",
       "      <td>P/DW</td>\n",
       "      <td>513900000</td>\n",
       "      <td>2010</td>\n",
       "      <td>15.041</td>\n",
       "      <td>6.1</td>\n",
       "      <td>165000000</td>\n",
       "      <td>238736787</td>\n",
       "      <td>756244673</td>\n",
       "    </tr>\n",
       "    <tr>\n",
       "      <th>3</th>\n",
       "      <td>The Twilight Saga: Eclipse</td>\n",
       "      <td>Sum.</td>\n",
       "      <td>398000000</td>\n",
       "      <td>2010</td>\n",
       "      <td>20.340</td>\n",
       "      <td>6.0</td>\n",
       "      <td>68000000</td>\n",
       "      <td>300531751</td>\n",
       "      <td>706102828</td>\n",
       "    </tr>\n",
       "    <tr>\n",
       "      <th>4</th>\n",
       "      <td>Iron Man 2</td>\n",
       "      <td>Par.</td>\n",
       "      <td>311500000</td>\n",
       "      <td>2010</td>\n",
       "      <td>28.515</td>\n",
       "      <td>6.8</td>\n",
       "      <td>170000000</td>\n",
       "      <td>312433331</td>\n",
       "      <td>621156389</td>\n",
       "    </tr>\n",
       "    <tr>\n",
       "      <th>...</th>\n",
       "      <td>...</td>\n",
       "      <td>...</td>\n",
       "      <td>...</td>\n",
       "      <td>...</td>\n",
       "      <td>...</td>\n",
       "      <td>...</td>\n",
       "      <td>...</td>\n",
       "      <td>...</td>\n",
       "      <td>...</td>\n",
       "    </tr>\n",
       "    <tr>\n",
       "      <th>1010</th>\n",
       "      <td>Ant-Man and the Wasp</td>\n",
       "      <td>BV</td>\n",
       "      <td>406000000</td>\n",
       "      <td>2018</td>\n",
       "      <td>44.729</td>\n",
       "      <td>7.0</td>\n",
       "      <td>130000000</td>\n",
       "      <td>216648740</td>\n",
       "      <td>623144660</td>\n",
       "    </tr>\n",
       "    <tr>\n",
       "      <th>1011</th>\n",
       "      <td>Ready Player One</td>\n",
       "      <td>WB</td>\n",
       "      <td>445200000</td>\n",
       "      <td>2018</td>\n",
       "      <td>30.029</td>\n",
       "      <td>7.6</td>\n",
       "      <td>150000000</td>\n",
       "      <td>137690172</td>\n",
       "      <td>579290136</td>\n",
       "    </tr>\n",
       "    <tr>\n",
       "      <th>1012</th>\n",
       "      <td>The Meg</td>\n",
       "      <td>WB</td>\n",
       "      <td>384800000</td>\n",
       "      <td>2018</td>\n",
       "      <td>31.397</td>\n",
       "      <td>5.9</td>\n",
       "      <td>178000000</td>\n",
       "      <td>145443742</td>\n",
       "      <td>529530715</td>\n",
       "    </tr>\n",
       "    <tr>\n",
       "      <th>1013</th>\n",
       "      <td>Hotel Transylvania 3: Summer Vacation</td>\n",
       "      <td>Sony</td>\n",
       "      <td>361100000</td>\n",
       "      <td>2018</td>\n",
       "      <td>26.815</td>\n",
       "      <td>6.8</td>\n",
       "      <td>65000000</td>\n",
       "      <td>167500092</td>\n",
       "      <td>527079962</td>\n",
       "    </tr>\n",
       "    <tr>\n",
       "      <th>1014</th>\n",
       "      <td>Bumblebee</td>\n",
       "      <td>Par.</td>\n",
       "      <td>340800000</td>\n",
       "      <td>2018</td>\n",
       "      <td>43.078</td>\n",
       "      <td>6.5</td>\n",
       "      <td>102000000</td>\n",
       "      <td>127195589</td>\n",
       "      <td>465195589</td>\n",
       "    </tr>\n",
       "  </tbody>\n",
       "</table>\n",
       "<p>130 rows × 9 columns</p>\n",
       "</div>"
      ],
      "text/plain": [
       "                                      title studio foreign_gross  year  \\\n",
       "0                               Toy Story 3     BV     652000000  2010   \n",
       "1                                 Inception     WB     535700000  2010   \n",
       "2                       Shrek Forever After   P/DW     513900000  2010   \n",
       "3                The Twilight Saga: Eclipse   Sum.     398000000  2010   \n",
       "4                                Iron Man 2   Par.     311500000  2010   \n",
       "...                                     ...    ...           ...   ...   \n",
       "1010                   Ant-Man and the Wasp     BV     406000000  2018   \n",
       "1011                       Ready Player One     WB     445200000  2018   \n",
       "1012                                The Meg     WB     384800000  2018   \n",
       "1013  Hotel Transylvania 3: Summer Vacation   Sony     361100000  2018   \n",
       "1014                              Bumblebee   Par.     340800000  2018   \n",
       "\n",
       "      popularity  vote_average  production_budget  domestic_gross  \\\n",
       "0         24.445           7.7          200000000       415004880   \n",
       "1         27.920           8.3          160000000       292576195   \n",
       "2         15.041           6.1          165000000       238736787   \n",
       "3         20.340           6.0           68000000       300531751   \n",
       "4         28.515           6.8          170000000       312433331   \n",
       "...          ...           ...                ...             ...   \n",
       "1010      44.729           7.0          130000000       216648740   \n",
       "1011      30.029           7.6          150000000       137690172   \n",
       "1012      31.397           5.9          178000000       145443742   \n",
       "1013      26.815           6.8           65000000       167500092   \n",
       "1014      43.078           6.5          102000000       127195589   \n",
       "\n",
       "      worldwide_gross  \n",
       "0          1068879522  \n",
       "1           835524642  \n",
       "2           756244673  \n",
       "3           706102828  \n",
       "4           621156389  \n",
       "...               ...  \n",
       "1010        623144660  \n",
       "1011        579290136  \n",
       "1012        529530715  \n",
       "1013        527079962  \n",
       "1014        465195589  \n",
       "\n",
       "[130 rows x 9 columns]"
      ]
     },
     "execution_count": 95,
     "metadata": {},
     "output_type": "execute_result"
    }
   ],
   "source": [
    "movie_budget_df['studio'] = movie_budget_df['studio'].replace('^WB.*', 'WB', regex=True)\n",
    "movie_budget_df['studio'] = movie_budget_df['studio'].replace('^LG.*', 'LG', regex=True)\n",
    "movie_budget_df"
   ]
  },
  {
   "cell_type": "code",
   "execution_count": 96,
   "metadata": {},
   "outputs": [
    {
     "data": {
      "text/html": [
       "<div>\n",
       "<style scoped>\n",
       "    .dataframe tbody tr th:only-of-type {\n",
       "        vertical-align: middle;\n",
       "    }\n",
       "\n",
       "    .dataframe tbody tr th {\n",
       "        vertical-align: top;\n",
       "    }\n",
       "\n",
       "    .dataframe thead th {\n",
       "        text-align: right;\n",
       "    }\n",
       "</style>\n",
       "<table border=\"1\" class=\"dataframe\">\n",
       "  <thead>\n",
       "    <tr style=\"text-align: right;\">\n",
       "      <th></th>\n",
       "      <th>year</th>\n",
       "      <th>popularity</th>\n",
       "      <th>vote_average</th>\n",
       "      <th>production_budget</th>\n",
       "      <th>domestic_gross</th>\n",
       "      <th>worldwide_gross</th>\n",
       "    </tr>\n",
       "    <tr>\n",
       "      <th>studio</th>\n",
       "      <th></th>\n",
       "      <th></th>\n",
       "      <th></th>\n",
       "      <th></th>\n",
       "      <th></th>\n",
       "      <th></th>\n",
       "    </tr>\n",
       "  </thead>\n",
       "  <tbody>\n",
       "    <tr>\n",
       "      <th>BV</th>\n",
       "      <td>70512</td>\n",
       "      <td>940.724</td>\n",
       "      <td>246.2</td>\n",
       "      <td>6.831200e+09</td>\n",
       "      <td>1.190611e+10</td>\n",
       "      <td>3.176650e+10</td>\n",
       "    </tr>\n",
       "    <tr>\n",
       "      <th>WB</th>\n",
       "      <td>48357</td>\n",
       "      <td>654.631</td>\n",
       "      <td>164.8</td>\n",
       "      <td>4.166000e+09</td>\n",
       "      <td>6.343742e+09</td>\n",
       "      <td>1.731940e+10</td>\n",
       "    </tr>\n",
       "    <tr>\n",
       "      <th>P/DW</th>\n",
       "      <td>12065</td>\n",
       "      <td>94.260</td>\n",
       "      <td>39.4</td>\n",
       "      <td>9.500000e+08</td>\n",
       "      <td>1.339610e+09</td>\n",
       "      <td>4.341653e+09</td>\n",
       "    </tr>\n",
       "    <tr>\n",
       "      <th>Sum.</th>\n",
       "      <td>2010</td>\n",
       "      <td>20.340</td>\n",
       "      <td>6.0</td>\n",
       "      <td>6.800000e+07</td>\n",
       "      <td>3.005318e+08</td>\n",
       "      <td>7.061028e+08</td>\n",
       "    </tr>\n",
       "    <tr>\n",
       "      <th>Par.</th>\n",
       "      <td>16110</td>\n",
       "      <td>218.389</td>\n",
       "      <td>54.1</td>\n",
       "      <td>1.394000e+09</td>\n",
       "      <td>1.615424e+09</td>\n",
       "      <td>4.907887e+09</td>\n",
       "    </tr>\n",
       "    <tr>\n",
       "      <th>Uni.</th>\n",
       "      <td>34248</td>\n",
       "      <td>312.440</td>\n",
       "      <td>110.6</td>\n",
       "      <td>1.974000e+09</td>\n",
       "      <td>4.593719e+09</td>\n",
       "      <td>1.440055e+10</td>\n",
       "    </tr>\n",
       "    <tr>\n",
       "      <th>Fox</th>\n",
       "      <td>48346</td>\n",
       "      <td>556.454</td>\n",
       "      <td>167.4</td>\n",
       "      <td>2.937000e+09</td>\n",
       "      <td>4.137738e+09</td>\n",
       "      <td>1.378231e+10</td>\n",
       "    </tr>\n",
       "    <tr>\n",
       "      <th>Sony</th>\n",
       "      <td>18131</td>\n",
       "      <td>221.897</td>\n",
       "      <td>59.6</td>\n",
       "      <td>1.440000e+09</td>\n",
       "      <td>2.187843e+09</td>\n",
       "      <td>6.862027e+09</td>\n",
       "    </tr>\n",
       "    <tr>\n",
       "      <th>LG</th>\n",
       "      <td>10070</td>\n",
       "      <td>103.998</td>\n",
       "      <td>36.0</td>\n",
       "      <td>5.150000e+08</td>\n",
       "      <td>1.602640e+09</td>\n",
       "      <td>3.384705e+09</td>\n",
       "    </tr>\n",
       "    <tr>\n",
       "      <th>Wein.</th>\n",
       "      <td>2012</td>\n",
       "      <td>21.260</td>\n",
       "      <td>8.0</td>\n",
       "      <td>1.000000e+08</td>\n",
       "      <td>1.628054e+08</td>\n",
       "      <td>4.499483e+08</td>\n",
       "    </tr>\n",
       "  </tbody>\n",
       "</table>\n",
       "</div>"
      ],
      "text/plain": [
       "         year  popularity  vote_average  production_budget  domestic_gross  \\\n",
       "studio                                                                       \n",
       "BV      70512     940.724         246.2       6.831200e+09    1.190611e+10   \n",
       "WB      48357     654.631         164.8       4.166000e+09    6.343742e+09   \n",
       "P/DW    12065      94.260          39.4       9.500000e+08    1.339610e+09   \n",
       "Sum.     2010      20.340           6.0       6.800000e+07    3.005318e+08   \n",
       "Par.    16110     218.389          54.1       1.394000e+09    1.615424e+09   \n",
       "Uni.    34248     312.440         110.6       1.974000e+09    4.593719e+09   \n",
       "Fox     48346     556.454         167.4       2.937000e+09    4.137738e+09   \n",
       "Sony    18131     221.897          59.6       1.440000e+09    2.187843e+09   \n",
       "LG      10070     103.998          36.0       5.150000e+08    1.602640e+09   \n",
       "Wein.    2012      21.260           8.0       1.000000e+08    1.628054e+08   \n",
       "\n",
       "        worldwide_gross  \n",
       "studio                   \n",
       "BV         3.176650e+10  \n",
       "WB         1.731940e+10  \n",
       "P/DW       4.341653e+09  \n",
       "Sum.       7.061028e+08  \n",
       "Par.       4.907887e+09  \n",
       "Uni.       1.440055e+10  \n",
       "Fox        1.378231e+10  \n",
       "Sony       6.862027e+09  \n",
       "LG         3.384705e+09  \n",
       "Wein.      4.499483e+08  "
      ]
     },
     "execution_count": 96,
     "metadata": {},
     "output_type": "execute_result"
    }
   ],
   "source": [
    "new_df = movie_budget_df[movie_budget_df['']]"
   ]
  },
  {
   "cell_type": "code",
   "execution_count": null,
   "metadata": {},
   "outputs": [],
   "source": []
  }
 ],
 "metadata": {
  "kernelspec": {
   "display_name": "Python (learn-env)",
   "language": "python",
   "name": "learn-env"
  },
  "language_info": {
   "codemirror_mode": {
    "name": "ipython",
    "version": 3
   },
   "file_extension": ".py",
   "mimetype": "text/x-python",
   "name": "python",
   "nbconvert_exporter": "python",
   "pygments_lexer": "ipython3",
   "version": "3.8.5"
  }
 },
 "nbformat": 4,
 "nbformat_minor": 4
}
